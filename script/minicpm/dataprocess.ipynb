{
 "cells": [
  {
   "cell_type": "code",
   "id": "initial_id",
   "metadata": {
    "collapsed": true,
    "ExecuteTime": {
     "end_time": "2024-11-07T03:07:29.914421Z",
     "start_time": "2024-11-07T03:07:28.717587Z"
    }
   },
   "source": [
    "import os\n",
    "import shutil\n",
    "import json\n",
    "import random\n",
    "\n",
    "input_dir = \"/Users/dxj/Desktop/self-project/models_ft/data/AdvertiseGen\"\n",
    "output_dir = \"/Users/dxj/Desktop/self-project/models_ft/data/AdvertiseGenChatML\"\n",
    "if os.path.exists(output_dir):\n",
    "    shutil.rmtree(output_dir)\n",
    "os.makedirs(output_dir, exist_ok=True)\n",
    "\n",
    "for fn in [\"train.json\", \"dev.json\"]:\n",
    "    data_out_list = []\n",
    "    with open(os.path.join(input_dir, fn), \"r\") as f, open(os.path.join(output_dir, fn), \"w\") as fo:\n",
    "        for line in f:\n",
    "            if len(line.strip()) > 0:\n",
    "                data = json.loads(line)\n",
    "                data_out = {\n",
    "                    \"messages\": [\n",
    "                        {\n",
    "                            \"role\": \"user\",\n",
    "                            \"content\": data[\"content\"],\n",
    "                        },\n",
    "                        {\n",
    "                            \"role\": \"assistant\",\n",
    "                            \"content\": data[\"summary\"],\n",
    "                        },\n",
    "                    ]\n",
    "                }\n",
    "                data_out_list.append(data_out)\n",
    "        json.dump(data_out_list, fo, ensure_ascii=False, indent=4)"
   ],
   "outputs": [],
   "execution_count": 2
  },
  {
   "metadata": {
    "ExecuteTime": {
     "end_time": "2024-11-07T03:13:35.337288Z",
     "start_time": "2024-11-07T03:13:35.212433Z"
    }
   },
   "cell_type": "code",
   "source": [
    "import random\n",
    "\n",
    "letters = ['a', 'b', 'c', 'd', 'e', 'f', 'g', 'h', 'i', 'j', 'k', 'l', 'm', 'n', 'o', 'p', 'q', 'r', 's', 't', 'u', 'v',\n",
    "           'w', 'x', 'y', 'z']\n",
    "\n",
    "data_out_list = []\n",
    "for _ in range(10000):\n",
    "    word_input = \"\"\n",
    "    word_output = \"\"\n",
    "    for i in range(random.randint(3, 10)):\n",
    "        letter = random.choice(letters)\n",
    "        word_input += letter\n",
    "        word_output += letters[-letters.index(letter) - 1]\n",
    "    word_output = word_output[::-1]\n",
    "\n",
    "    data_out = {\n",
    "        \"messages\": [\n",
    "            {\n",
    "                \"role\": \"user\",\n",
    "                \"content\": word_input,\n",
    "            },\n",
    "            {\n",
    "                \"role\": \"assistant\",\n",
    "                \"content\": word_output,\n",
    "            },\n",
    "        ]\n",
    "    }\n",
    "    data_out_list.append(data_out)\n",
    "with open(\"/Users/dxj/Desktop/self-project/models_ft/data/lettersChatML/train.json\", \"w\") as fn:\n",
    "    json.dump(data_out_list[:8000], fn, ensure_ascii=False, indent=4)\n",
    "with open(\"/Users/dxj/Desktop/self-project/models_ft/data/lettersChatML/dev.json\", \"w\") as fn:\n",
    "    json.dump(data_out_list[8000:], fn, ensure_ascii=False, indent=4)\n"
   ],
   "id": "fddd7562e24db928",
   "outputs": [],
   "execution_count": 9
  },
  {
   "metadata": {},
   "cell_type": "code",
   "outputs": [],
   "execution_count": null,
   "source": "",
   "id": "4a13d06e6948e1b1"
  }
 ],
 "metadata": {
  "kernelspec": {
   "display_name": "Python 3",
   "language": "python",
   "name": "python3"
  },
  "language_info": {
   "codemirror_mode": {
    "name": "ipython",
    "version": 2
   },
   "file_extension": ".py",
   "mimetype": "text/x-python",
   "name": "python",
   "nbconvert_exporter": "python",
   "pygments_lexer": "ipython2",
   "version": "2.7.6"
  }
 },
 "nbformat": 4,
 "nbformat_minor": 5
}
